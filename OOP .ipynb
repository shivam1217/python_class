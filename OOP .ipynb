{
 "cells": [
  {
   "cell_type": "code",
   "execution_count": null,
   "id": "67e99fc0",
   "metadata": {},
   "outputs": [],
   "source": [
    "# OOP in python\n",
    "\n",
    "# class <class_name>:\n",
    "#     <operations>\n",
    "    \n",
    "# obj= <class_name>()\n"
   ]
  },
  {
   "cell_type": "code",
   "execution_count": 2,
   "id": "78ababbf",
   "metadata": {},
   "outputs": [
    {
     "name": "stdout",
     "output_type": "stream",
     "text": [
      "Hello world\n",
      "hello\n",
      "people\n"
     ]
    }
   ],
   "source": [
    "class Hello:                                               #class is a keyword\n",
    "    print(\"Hello world\")\n",
    "    \n",
    "obj= Hello()                                                  #object\n",
    "\n",
    "\n",
    "\n",
    "class People:\n",
    "    print(\"hello\")\n",
    "    print(\"people\")\n",
    "    \n",
    "obj=  People()  "
   ]
  },
  {
   "cell_type": "code",
   "execution_count": 2,
   "id": "71fae710",
   "metadata": {},
   "outputs": [
    {
     "name": "stdout",
     "output_type": "stream",
     "text": [
      "Hello world\n",
      "hy i am shiva\n",
      "\n"
     ]
    }
   ],
   "source": [
    "class Hello: \n",
    "    def hello(self):                                                     #method or function\n",
    "        print(\"Hello world\")\n",
    "    \n",
    "                                                              # def vanerw method declare garesi last ma teslai ni call garna parxa\n",
    "\n",
    "class People:\n",
    "    def person(self):\n",
    "        print(\"hy i am shiva\\n\")\n",
    "\n",
    "obj= Hello()         \n",
    "obj1 = People()\n",
    "obj.hello()\n",
    "obj1.person()\n"
   ]
  },
  {
   "cell_type": "code",
   "execution_count": 5,
   "id": "f6bd0ea5",
   "metadata": {},
   "outputs": [
    {
     "name": "stdout",
     "output_type": "stream",
     "text": [
      "enter l = 12\n",
      "enter b = 10\n",
      "enter h = 8\n",
      "The area is =  120\n",
      "The volume  is =  960\n"
     ]
    }
   ],
   "source": [
    "class Cal:\n",
    "    def cal(self):\n",
    "        l = int(input(\"enter l = \"))\n",
    "        b = int(input(\"enter b = \"))\n",
    "        h = int(input(\"enter h = \"))\n",
    "        a = l*b\n",
    "        v= a*h\n",
    "        print( \"The area is = \", a)\n",
    "        print( \"The volume  is = \", v)\n",
    "        \n",
    "obj = Cal()\n",
    "obj.cal()\n",
    "        "
   ]
  },
  {
   "cell_type": "code",
   "execution_count": null,
   "id": "05ce9c4b",
   "metadata": {},
   "outputs": [],
   "source": []
  },
  {
   "cell_type": "code",
   "execution_count": 6,
   "id": "e8eeaeb2",
   "metadata": {},
   "outputs": [
    {
     "name": "stdout",
     "output_type": "stream",
     "text": [
      "enter l = 12\n",
      "enter b = 10\n",
      "enter h = 8\n",
      "The area is =  120\n",
      "The volume  is =  960\n"
     ]
    }
   ],
   "source": [
    "class Cal:\n",
    "                         # static_method call garesi self halnu pardaina\n",
    "    @staticmethod\n",
    "    \n",
    "    def cal():\n",
    "        l = int(input(\"enter l = \"))\n",
    "        b = int(input(\"enter b = \"))\n",
    "        h = int(input(\"enter h = \"))\n",
    "        a = l*b\n",
    "        v= a*h\n",
    "        print( \"The area is = \", a)\n",
    "        print( \"The volume  is = \", v)\n",
    "        \n",
    "obj = Cal()\n",
    "obj.cal()"
   ]
  },
  {
   "cell_type": "code",
   "execution_count": 1,
   "id": "7b94918d",
   "metadata": {},
   "outputs": [
    {
     "name": "stdout",
     "output_type": "stream",
     "text": [
      "enter value of l12\n",
      "The cube is =   1728\n"
     ]
    }
   ],
   "source": [
    "class Cal:\n",
    "    def cal(self):\n",
    "        l = int(input(\"enter value of l\"))\n",
    "        v = l*l*l\n",
    "        print (\"The cube is =  \",  v)\n",
    "        \n",
    "obj = Cal()\n",
    "obj.cal()\n",
    "\n"
   ]
  },
  {
   "cell_type": "code",
   "execution_count": 3,
   "id": "cd39fced",
   "metadata": {},
   "outputs": [
    {
     "name": "stdout",
     "output_type": "stream",
     "text": [
      "enter l = 12\n",
      "enter b = 10\n",
      "enter h = 11\n",
      "The area is =  120\n",
      "The volume  is =  1320\n"
     ]
    }
   ],
   "source": [
    "class Cal:\n",
    "    \n",
    "   \n",
    "    \n",
    "    def cal(self, x, y,z):\n",
    "    \n",
    "        a = x*y\n",
    "        v= a*z\n",
    "        print( \"The area is = \", a)\n",
    "        print( \"The volume  is = \", v)\n",
    "        \n",
    "        \n",
    "l = int(input(\"enter l = \"))\n",
    "b = int(input(\"enter b = \"))\n",
    "h = int(input(\"enter h = \"))        \n",
    "        \n",
    "        \n",
    "obj = Cal()\n",
    "obj.cal(l,b,h)"
   ]
  },
  {
   "cell_type": "code",
   "execution_count": 4,
   "id": "143b7d55",
   "metadata": {},
   "outputs": [
    {
     "name": "stdout",
     "output_type": "stream",
     "text": [
      "enter l = 12\n",
      "enter b = 12\n",
      "enter h = 12\n",
      "The area is =  144\n",
      "The volume  is =  1728\n"
     ]
    }
   ],
   "source": [
    "class Cal:\n",
    "    \n",
    "   \n",
    "    \n",
    "    def area(self, x, y):\n",
    "    \n",
    "        a = x*y\n",
    "       \n",
    "        print( \"The area is = \", a)\n",
    "        \n",
    "        \n",
    "    def volume(self, x,y,z): \n",
    "        v = x*y*z\n",
    "        print( \"The volume  is = \", v)\n",
    "        \n",
    "        \n",
    "l = int(input(\"enter l = \"))\n",
    "b = int(input(\"enter b = \"))\n",
    "h = int(input(\"enter h = \"))        \n",
    "        \n",
    "        \n",
    "obj = Cal()\n",
    "obj.area(l,b)\n",
    "obj.volume(l,b,h)"
   ]
  },
  {
   "cell_type": "code",
   "execution_count": 5,
   "id": "123e3602",
   "metadata": {},
   "outputs": [
    {
     "name": "stdout",
     "output_type": "stream",
     "text": [
      "enter l = 12\n",
      "enter b = 10\n",
      "enter h = 8\n",
      "The area is =  120\n",
      "The volume  is =  960\n"
     ]
    }
   ],
   "source": [
    "class Cal:\n",
    "    \n",
    "  \n",
    "\n",
    "    def __init__(self,x,y,z):\n",
    "        \n",
    "        self.x = x\n",
    "        self.y = y\n",
    "        self.z = z\n",
    "        \n",
    "    def area(self):\n",
    "    \n",
    "        a = self.x*self.y\n",
    "       \n",
    "        print( \"The area is = \", a)\n",
    "        \n",
    "        \n",
    "    def volume(self): \n",
    "        v = self.x*self.y*self.z\n",
    "        print( \"The volume  is = \", v)\n",
    "        \n",
    "        \n",
    "l = int(input(\"enter l = \"))\n",
    "b = int(input(\"enter b = \"))\n",
    "h = int(input(\"enter h = \"))        \n",
    "        \n",
    "        \n",
    "obj = Cal(l,b,h)\n",
    "obj.area()\n",
    "obj.volume()"
   ]
  },
  {
   "cell_type": "code",
   "execution_count": 2,
   "id": "10d14c53",
   "metadata": {},
   "outputs": [
    {
     "name": "stdout",
     "output_type": "stream",
     "text": [
      "enter name= shiva\n",
      "enter age = 21\n",
      "enter add = ktm\n",
      "Hello I am shiva. I am from ktm and I am 21\n"
     ]
    }
   ],
   "source": [
    "class Info:\n",
    "    \n",
    "    def __init__(self, name, age, add):\n",
    "        \n",
    "        self.name = name\n",
    "        self.age= age\n",
    "        self.add= add\n",
    "        \n",
    "        \n",
    "    def my_info(self):\n",
    "        print( f\"Hello I am {self.name}. I am from {self.add} and I am {self.age}\")\n",
    "        \n",
    "name= input(\"enter name= \")     \n",
    "age = int(input(\"enter age = \"))\n",
    "add = input(\"enter add = \")\n",
    "\n",
    "\n",
    "obj = Info(name, age, add)\n",
    "obj.my_info()"
   ]
  },
  {
   "cell_type": "code",
   "execution_count": 3,
   "id": "26449b06",
   "metadata": {},
   "outputs": [
    {
     "name": "stdout",
     "output_type": "stream",
     "text": [
      "enter name= shiva\n",
      "enter age = 21\n",
      "enter add = ktm\n",
      "Hello I am shiva. I am from ktm and I am 21\n",
      "shiva 21 ktm\n"
     ]
    }
   ],
   "source": [
    "class Info:\n",
    "    \n",
    "    def __init__(self, name, age, add):\n",
    "        \n",
    "        self.name = name\n",
    "        self.age= age\n",
    "        self.add= add\n",
    "        \n",
    "        \n",
    "    def my_info(self):\n",
    "        print( f\"Hello I am {self.name}. I am from {self.add} and I am {self.age}\")\n",
    "        \n",
    "name= input(\"enter name= \")     \n",
    "age = int(input(\"enter age = \"))\n",
    "add = input(\"enter add = \")\n",
    "\n",
    "\n",
    "obj = Info(name, age, add)\n",
    "obj.my_info() \n",
    "print(obj.name, obj.age, obj.add)"
   ]
  },
  {
   "cell_type": "code",
   "execution_count": 5,
   "id": "327ea41c",
   "metadata": {},
   "outputs": [
    {
     "name": "stdout",
     "output_type": "stream",
     "text": [
      "enter l = 12\n",
      "enter b = 10\n",
      "enter h = 8\n",
      "The area is =  120\n",
      "the volume is =  960\n"
     ]
    }
   ],
   "source": [
    "class Area:\n",
    "    def __init__(self,x,y):\n",
    "        self.x,self.y = x,y\n",
    "    def area(self):\n",
    "        a= self.x*self.y\n",
    "        print(\"The area is = \", a)\n",
    "        \n",
    "class Volume:\n",
    "    def __init__(self,x,y,z):\n",
    "        self.x,self.y,self.z = x,y,z\n",
    "    def volume(self):\n",
    "        v = self.x*self.y*self.z\n",
    "        print(\"the volume is = \", v)\n",
    "        \n",
    "l = int(input(\"enter l = \"))\n",
    "b = int(input(\"enter b = \"))\n",
    "h = int(input(\"enter h = \"))  \n",
    "\n",
    "\n",
    "obj = Area(l,b)\n",
    "obj1 = Volume(l,b,h)\n",
    "obj.area()\n",
    "obj1.volume()\n",
    "        "
   ]
  },
  {
   "cell_type": "code",
   "execution_count": 6,
   "id": "6b713a2d",
   "metadata": {},
   "outputs": [
    {
     "name": "stdout",
     "output_type": "stream",
     "text": [
      "enter name= shiva\n",
      "enter age = 21\n",
      "enter add = ktm\n",
      "shiva\n",
      "shiva\n",
      "shiva\n"
     ]
    }
   ],
   "source": [
    "# str method i.e   __str__\n",
    "\n",
    "\n",
    "\n",
    "\n",
    "\n",
    "class Info:\n",
    "    \n",
    "    def __init__(self, name, age, add):\n",
    "        \n",
    "        self.name = name\n",
    "        self.age= age\n",
    "        self.add= add\n",
    "        \n",
    "    def __str__(self):\n",
    "        return self.name\n",
    "        \n",
    "        \n",
    "    \n",
    "        \n",
    "name= input(\"enter name= \")     \n",
    "age = int(input(\"enter age = \"))\n",
    "add = input(\"enter add = \")\n",
    "\n",
    "\n",
    "obj = Info(name, age, add)\n",
    "print(obj)\n",
    "print(obj.__str__())\n",
    "print(str(obj)) \n"
   ]
  },
  {
   "cell_type": "code",
   "execution_count": 9,
   "id": "fb79ae8f",
   "metadata": {},
   "outputs": [
    {
     "name": "stdout",
     "output_type": "stream",
     "text": [
      "This is init method 1000\n",
      "This is init method 2000\n",
      "This is init method 3000\n",
      "This is add method 3000\n",
      "This is init method 3000\n",
      "This is add method 6000\n",
      "This is init method 6000\n",
      "This is str method 6000\n",
      "6000\n"
     ]
    }
   ],
   "source": [
    "# __ str__ cant return integer\n",
    "\n",
    "class Total:\n",
    "    def __init__(self,x):                # ya gayerw initialise garxa\n",
    "        self.x = x\n",
    "        print(\"This is init method\", self.x)\n",
    "        \n",
    "    def __str__(self):\n",
    "        print(\"This is str method\", self.x)\n",
    "        return str(self.x)\n",
    "    \n",
    "    def __add__(self,other):\n",
    "        x= self.x + other.x\n",
    "        print(\"This is add method\", x)\n",
    "        return Total(x)\n",
    "    \n",
    "obj = Total(1000)\n",
    "obj1 = Total(2000)\n",
    "obj2 = Total(3000)\n",
    "print(obj+obj1+obj2)\n"
   ]
  },
  {
   "cell_type": "code",
   "execution_count": 12,
   "id": "a06e79da",
   "metadata": {},
   "outputs": [
    {
     "name": "stdout",
     "output_type": "stream",
     "text": [
      "(1,5)\n"
     ]
    }
   ],
   "source": [
    "class Point:\n",
    "\n",
    "    def __init__(self, x = 0, y = 0):\n",
    "\n",
    "        self.x = x\n",
    "        self.y = y\n",
    "\n",
    "    def __str__(self):\n",
    "\n",
    "        return f\"({self.x},{self.y})\"\n",
    "\n",
    "    def __add__(self,other):\n",
    "\n",
    "        x = self.x + other.x\n",
    "        y = self.y + other.y\n",
    "        return Point(x,y)\n",
    "\n",
    "p1 = Point(2,3)\n",
    "p2 = Point(-1,2)\n",
    "print(p1 + p2)"
   ]
  },
  {
   "cell_type": "code",
   "execution_count": null,
   "id": "60f91d73",
   "metadata": {},
   "outputs": [],
   "source": []
  }
 ],
 "metadata": {
  "kernelspec": {
   "display_name": "Python 3 (ipykernel)",
   "language": "python",
   "name": "python3"
  },
  "language_info": {
   "codemirror_mode": {
    "name": "ipython",
    "version": 3
   },
   "file_extension": ".py",
   "mimetype": "text/x-python",
   "name": "python",
   "nbconvert_exporter": "python",
   "pygments_lexer": "ipython3",
   "version": "3.9.12"
  }
 },
 "nbformat": 4,
 "nbformat_minor": 5
}
